{
 "cells": [
  {
   "cell_type": "code",
   "execution_count": 7,
   "metadata": {},
   "outputs": [
    {
     "name": "stdout",
     "output_type": "stream",
     "text": [
      "{'Oranges (packaged)': 114.99, 'Candy (Rotfront)': 280.0, 'Boiled sausage': 133.99, 'Juice J7 (orange)': 105.59, 'Trout (Seven Seas)': 327.99}\n"
     ]
    }
   ],
   "source": [
    "import pandas as pd\n",
    "import numpy as np\n",
    "import matplotlib.pyplot as plt\n",
    "import seaborn as sns\n",
    "import plotly.express as px\n",
    "import json\n",
    "from pprint import pprint\n",
    "\n",
    "products = {'Oranges (packaged)': 114.99, 'Candy (Rotfront)': 280.0, 'Boiled sausage': 199.99, 'Juice J7 (orange)': 119.99, 'Trout (Seven Seas)': 399.99}\n",
    "stocks = {'Boiled sausage': '33%', 'Juice J7 (orange)': '12%', 'Trout (Seven Seas)': '18%'}\n",
    "def apply_discounts(products, stocks):\n",
    "    products.update (dict(\n",
    "        (k, round(products[k]*(100-int(stocks[k][:-1]))/100,2))\n",
    "        for k in products.keys() & stocks.keys()\n",
    "    ) )  \n",
    "    return products\n",
    "\n",
    "\n",
    "print(apply_discounts(products, stocks))\n",
    "\n",
    "## {'Oranges (packaged)': 114.99, 'Candy (Rotfront)': 280.0, 'Boiled sausage': 133.99, 'Juice J7 (orange)': 105.59, 'Trout (Seven Seas)': 327.99}\n"
   ]
  },
  {
   "cell_type": "code",
   "execution_count": 26,
   "metadata": {},
   "outputs": [
    {
     "data": {
      "text/html": [
       "<div>\n",
       "<style scoped>\n",
       "    .dataframe tbody tr th:only-of-type {\n",
       "        vertical-align: middle;\n",
       "    }\n",
       "\n",
       "    .dataframe tbody tr th {\n",
       "        vertical-align: top;\n",
       "    }\n",
       "\n",
       "    .dataframe thead th {\n",
       "        text-align: right;\n",
       "    }\n",
       "</style>\n",
       "<table border=\"1\" class=\"dataframe\">\n",
       "  <thead>\n",
       "    <tr style=\"text-align: right;\">\n",
       "      <th></th>\n",
       "      <th>Country</th>\n",
       "      <th>Total_bronze</th>\n",
       "      <th>Total_silver</th>\n",
       "    </tr>\n",
       "  </thead>\n",
       "  <tbody>\n",
       "    <tr>\n",
       "      <th>3</th>\n",
       "      <td>Россия</td>\n",
       "      <td>1146</td>\n",
       "      <td>146</td>\n",
       "    </tr>\n",
       "    <tr>\n",
       "      <th>4</th>\n",
       "      <td>Украина</td>\n",
       "      <td>415</td>\n",
       "      <td>45</td>\n",
       "    </tr>\n",
       "    <tr>\n",
       "      <th>5</th>\n",
       "      <td>Беларусь</td>\n",
       "      <td>91</td>\n",
       "      <td>9</td>\n",
       "    </tr>\n",
       "    <tr>\n",
       "      <th>6</th>\n",
       "      <td>Казахстан</td>\n",
       "      <td>117</td>\n",
       "      <td>17</td>\n",
       "    </tr>\n",
       "  </tbody>\n",
       "</table>\n",
       "</div>"
      ],
      "text/plain": [
       "     Country  Total_bronze  Total_silver\n",
       "3     Россия          1146           146\n",
       "4    Украина           415            45\n",
       "5   Беларусь            91             9\n",
       "6  Казахстан           117            17"
      ]
     },
     "metadata": {},
     "output_type": "display_data"
    }
   ],
   "source": [
    "bronze_top=pd.DataFrame({\n",
    "    'Country': ['Англия', 'Канада', 'США', 'Россия', 'Украина', 'Беларусь', 'Казахстан'],\n",
    "    \"Total\": [516, 328, 3212, 1146, 415, 91, 117]\n",
    "})\n",
    "silver_top=pd.DataFrame({\n",
    "    'Country': [ 'Россия', 'Украина', 'Беларусь', 'Казахстан'],\n",
    "    \"Total\": [146, 45, 9, 17]\n",
    "})\n",
    "merged=bronze_top.join(\n",
    "    silver_top.set_index(\"Country\"),\n",
    "    on=\"Country\",\n",
    "    how=\"inner\",\n",
    "    lsuffix=\"_bronze\",\n",
    "    rsuffix=\"_silver\"\n",
    ")\n",
    "display(merged)"
   ]
  },
  {
   "cell_type": "markdown",
   "metadata": {},
   "source": [
    "Теперь, когда таблица заполнена, создайте столбец day_power — ежедневная выработка солнечной энергии.\n",
    "\n",
    "Далее создайте данные о средней ежедневной выработке энергии на каждый месяц-год.\n",
    "\n",
    "Совет: для того чтобы выделить из даты год и месяц, проще всего будет воспользоваться методом аксессора dt.to_period('M'), который позволяет выделять периоды (в данном случае 'М' — месяц).\n",
    "\n",
    "Затем сгруппируйте данные по периодам (год-месяц) и рассчитайте среднее в столбце day_power.\n",
    "\n",
    "Сколько солнечной энергии в среднем в день выработали в марте 2017 года? Ответ округлите до целого."
   ]
  },
  {
   "cell_type": "code",
   "execution_count": 40,
   "metadata": {},
   "outputs": [
    {
     "name": "stdout",
     "output_type": "stream",
     "text": [
      "            cum_power  day_power\n",
      "date                            \n",
      "2017-01-31    20153.0        3.0\n",
      "2017-02-28    20257.0        4.0\n",
      "2017-03-31    20445.0       11.0\n",
      "2017-04-30    20885.0       16.0\n",
      "2017-05-31    21408.0       19.0\n",
      "2017-06-30    22068.0       22.0\n",
      "2017-07-31    22667.0       18.0\n",
      "2017-08-31    23179.0       15.0\n",
      "2017-09-30    23573.0       12.0\n",
      "2017-10-31    23858.0        6.0\n",
      "2017-11-30    23999.0        3.0\n",
      "2017-12-31    24059.0        1.0\n",
      "2018-01-31    24104.0        2.0\n",
      "2018-02-28    24225.0        7.0\n",
      "2018-03-31    24461.0        9.0\n",
      "2018-04-30    24815.0       15.0\n",
      "2018-05-31    25387.0       21.0\n",
      "2018-06-30    25959.0       19.0\n",
      "2018-07-31    26625.0       22.0\n",
      "2018-08-31    27245.0       17.0\n",
      "2018-09-30    27692.0       14.0\n",
      "2018-10-31    28024.0        9.0\n"
     ]
    },
    {
     "name": "stderr",
     "output_type": "stream",
     "text": [
      "<>:1: SyntaxWarning: invalid escape sequence '\\S'\n",
      "<>:1: SyntaxWarning: invalid escape sequence '\\S'\n",
      "C:\\Users\\govor\\AppData\\Local\\Temp\\ipykernel_1376\\1455169117.py:1: SyntaxWarning: invalid escape sequence '\\S'\n",
      "  solar_data =pd.read_csv(\"C:\\SkillFactory\\учебный материал\\data\\solarpower.csv\", na_values=\"-1\", parse_dates=[\"date\"])\n",
      "C:\\Users\\govor\\AppData\\Local\\Temp\\ipykernel_1376\\1455169117.py:4: FutureWarning: 'M' is deprecated and will be removed in a future version, please use 'ME' instead.\n",
      "  print(round(solar_data.resample('M', on=\"date\").mean()))\n"
     ]
    }
   ],
   "source": [
    "# преобразуем файл в датафрейм, функция na_values показывает какие данные считаются пропущенными\n",
    "# parse_dates преобразовывает столбец с датой в нужный формат\n",
    "solar_data =pd.read_csv(\"C:\\SkillFactory\\учебный материал\\data\\solarpower.csv\", na_values=\"-1\", parse_dates=[\"date\"])\n",
    "# interpolate преобразует пропущенные значения средним арифметическим двух соседних\n",
    "solar_data[\"cum_power\"]=solar_data[\"cum_power\"].interpolate()\n",
    "# создаем новый столбец и при помощи функции diff находим разницу двух последовательных значений, fillna заполняе строки найдеными занченими\n",
    "solar_data[\"day_power\"]=solar_data[\"cum_power\"].diff().fillna(0)\n",
    "# resample вычленяем и группируем дату по месяцам и mean находим среднее значение по месяцу\n",
    "print(round(solar_data.resample('M', on=\"date\").mean()))"
   ]
  }
 ],
 "metadata": {
  "kernelspec": {
   "display_name": "Python 3",
   "language": "python",
   "name": "python3"
  },
  "language_info": {
   "codemirror_mode": {
    "name": "ipython",
    "version": 3
   },
   "file_extension": ".py",
   "mimetype": "text/x-python",
   "name": "python",
   "nbconvert_exporter": "python",
   "pygments_lexer": "ipython3",
   "version": "3.12.1"
  }
 },
 "nbformat": 4,
 "nbformat_minor": 2
}
