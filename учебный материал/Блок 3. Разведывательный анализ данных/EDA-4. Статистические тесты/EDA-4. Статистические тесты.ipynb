{
 "cells": [
  {
   "cell_type": "code",
   "execution_count": 6,
   "metadata": {},
   "outputs": [
    {
     "name": "stdout",
     "output_type": "stream",
     "text": [
      "p-value = 0.41\n",
      "Распределение нормальное\n"
     ]
    }
   ],
   "source": [
    "import scipy.stats as stats \n",
    "alpha=0.05\n",
    "data = [12,  8,  9, 10, 11, 12,  7, 12,  2, 10,  3,  9, 18, 4, 11, 13, 13, 17, 14,  3, 10,  2,  2,  7, 14,  8, 20,  5,  7, 10]\n",
    "_,p = stats.shapiro(data) # создали переменную и вставив _, заглушку в переменную мы занесли только второе знаение функции shapiro. \n",
    "# ShapiroResult(statistic=0.8753404599368323, pvalue=0.014602840400848159) мы занесли только pvalue\n",
    "\n",
    "print('p-value = %.2f' % (p)) # текст pvalue = % это знак замещения.  .3 означает округляем до 3 знаков после запятой.  f что имеем дело с \n",
    "# числом с плавующей запятой\n",
    "\n",
    "# интерпретируем результат\n",
    "if p <= alpha:\n",
    "    print('Распределение не нормальное')\n",
    "else:\n",
    "    print('Распределение нормальное')\n",
    "\n",
    "\n"
   ]
  }
 ],
 "metadata": {
  "kernelspec": {
   "display_name": "Python 3",
   "language": "python",
   "name": "python3"
  },
  "language_info": {
   "codemirror_mode": {
    "name": "ipython",
    "version": 3
   },
   "file_extension": ".py",
   "mimetype": "text/x-python",
   "name": "python",
   "nbconvert_exporter": "python",
   "pygments_lexer": "ipython3",
   "version": "3.12.1"
  }
 },
 "nbformat": 4,
 "nbformat_minor": 2
}
