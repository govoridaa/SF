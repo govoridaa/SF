{
 "cells": [
  {
   "cell_type": "markdown",
   "metadata": {},
   "source": [
    "# <center> Практика. Статистические тесты в контексте EDA"
   ]
  },
  {
   "cell_type": "markdown",
   "metadata": {},
   "source": [
    "## Постановка задачи\n",
    "\n",
    "HR-агентство изучает тренды на рынке труда в IT. Компания хочет провести исследование на основе данных о зарплатах в сфере Data Science за 2020–2022 годы и получить некоторые выводы.\n",
    "\n",
    "В процессе своего анализа вы должны:\n",
    "\n",
    "- Выяснить, какие факторы влияют на зарплату специалиста Data Scientist.\n",
    "- А также ответить на ключевые вопросы HR-агентства:\n",
    "- Наблюдается ли ежегодный рост зарплат у специалистов Data Scientist?\n",
    "- Как соотносятся зарплаты Data Scientist и Data Engineer в 2022 году?\n",
    "- Как соотносятся зарплаты специалистов Data Scientist в компаниях различных размеров?\n",
    "- Есть ли связь между наличием должностей Data Scientist и Data Engineer и размером компании?\n",
    "- Если вы найдёте в данных интересные закономерности, также отметьте их в своём анализе.\n",
    "\n",
    "Продемонстрируйте использование разных тестов для проверки статистической значимости сделанных выводов:\n",
    "\n",
    "1) тесты для количественного признака:\n",
    "- для одной выборки;\n",
    "- для двух выборок;\n",
    "- для нескольких выборок;\n",
    "2) тест для категориальных признаков."
   ]
  },
  {
   "cell_type": "markdown",
   "metadata": {},
   "source": [
    "Данные содержат следующие столбцы:\n",
    "* work_year\tГод, в котором была выплачена зарплата.\n",
    "* experience_level\tОпыт работы на этой должности в течение года со следующими возможными значениями:\n",
    "    * EN — Entry-level/Junior;\n",
    "    * MI — Mid-level/Intermediate;\n",
    "    * SE — Senior-level/Expert;\n",
    "    * EX — Executive-level/Director.\n",
    "* employment_type\tТип трудоустройства для этой роли:\n",
    "    * PT — неполный рабочий день;\n",
    "    * FT — полный рабочий день;\n",
    "    * CT — контракт;\n",
    "    * FL — фриланс.\n",
    "* job_title\tРоль, в которой соискатель работал в течение года.\n",
    "* salary\tОбщая выплаченная валовая сумма заработной платы.\n",
    "* salary_currency\tВалюта выплачиваемой заработной платы в виде кода валюты ISO 4217.\n",
    "* salary_in_usd\tЗарплата в долларах США (валютный курс, делённый на среднее значение курса доллара США за соответствующий год через fxdata.foorilla.com).\n",
    "* employee_residence\tОсновная страна проживания сотрудника в течение рабочего года в виде кода страны ISO 3166.\n",
    "* remote_ratio\tОбщий объём работы, выполняемой удалённо. Возможные значения:\n",
    "    * 0 — удалённой работы нет (менее 20 %);\n",
    "    * 50 — частично удалённая работа;\n",
    "    * 100 — полностью удалённая работа (более 80 %).\n",
    "* company_location\tСтрана главного офиса работодателя или филиала по контракту в виде кода страны ISO 3166.\n",
    "* company_size\tСреднее количество людей, работавших в компании в течение года:\n",
    "    * S — менее 50 сотрудников (небольшая компания);\n",
    "    * M — от 50 до 250 сотрудников (средняя компания);\n",
    "    * L — более 250 сотрудников (крупная компания)."
   ]
  },
  {
   "cell_type": "markdown",
   "metadata": {},
   "source": [
    "## Загрузка данных"
   ]
  },
  {
   "cell_type": "code",
   "execution_count": 18,
   "metadata": {},
   "outputs": [
    {
     "name": "stderr",
     "output_type": "stream",
     "text": [
      "<>:11: SyntaxWarning: invalid escape sequence '\\S'\n",
      "<>:11: SyntaxWarning: invalid escape sequence '\\S'\n",
      "C:\\Users\\govor\\AppData\\Local\\Temp\\ipykernel_5596\\3952955740.py:11: SyntaxWarning: invalid escape sequence '\\S'\n",
      "  ds=pd.read_csv(\"C:\\SkillFactory\\учебный материал\\data\\ds_salaries.csv\")\n"
     ]
    }
   ],
   "source": [
    "# загружаем необходимые библиотеки\n",
    "import pandas as pd\n",
    "import numpy as np\n",
    "\n",
    "from scipy import stats\n",
    "import statsmodels.api as sm\n",
    "from statsmodels import stats as sms\n",
    "\n",
    "import matplotlib.pyplot as plt\n",
    "import seaborn as sns\n",
    "ds=pd.read_csv(\"C:\\SkillFactory\\учебный материал\\data\\ds_salaries.csv\")\n"
   ]
  },
  {
   "cell_type": "markdown",
   "metadata": {},
   "source": [
    "## Описательный анализ данных"
   ]
  },
  {
   "cell_type": "markdown",
   "metadata": {},
   "source": []
  },
  {
   "cell_type": "code",
   "execution_count": 19,
   "metadata": {},
   "outputs": [
    {
     "name": "stdout",
     "output_type": "stream",
     "text": [
      "<class 'pandas.core.frame.DataFrame'>\n",
      "RangeIndex: 607 entries, 0 to 606\n",
      "Data columns (total 12 columns):\n",
      " #   Column              Non-Null Count  Dtype \n",
      "---  ------              --------------  ----- \n",
      " 0   Unnamed: 0          607 non-null    int64 \n",
      " 1   work_year           607 non-null    int64 \n",
      " 2   experience_level    607 non-null    object\n",
      " 3   employment_type     607 non-null    object\n",
      " 4   job_title           607 non-null    object\n",
      " 5   salary              607 non-null    int64 \n",
      " 6   salary_currency     607 non-null    object\n",
      " 7   salary_in_usd       607 non-null    int64 \n",
      " 8   employee_residence  607 non-null    object\n",
      " 9   remote_ratio        607 non-null    int64 \n",
      " 10  company_location    607 non-null    object\n",
      " 11  company_size        607 non-null    object\n",
      "dtypes: int64(5), object(7)\n",
      "memory usage: 57.0+ KB\n"
     ]
    },
    {
     "data": {
      "text/plain": [
       "None"
      ]
     },
     "metadata": {},
     "output_type": "display_data"
    }
   ],
   "source": [
    "# Проверяем на наличие пропусков\n",
    "display(ds.info())"
   ]
  },
  {
   "cell_type": "markdown",
   "metadata": {},
   "source": [
    "Проверим данные на наличие полных дубликатов:"
   ]
  },
  {
   "cell_type": "code",
   "execution_count": 20,
   "metadata": {},
   "outputs": [],
   "source": [
    "# создаем список с названием колонок\n",
    "dubl_colums=list(ds.columns)\n",
    "dubl_colums.remove('Unnamed: 0')\n",
    "# удаляем дубликаты указав в функцию drop_duplicates параметр subset и передали в него список с именами колонок\n",
    "ds=ds.drop_duplicates(subset=dubl_colums)\n",
    "ds=ds.drop('Unnamed: 0',axis=1)\n"
   ]
  },
  {
   "cell_type": "markdown",
   "metadata": {},
   "source": [
    "Обнаружили и удалили 42 дубликата"
   ]
  },
  {
   "cell_type": "code",
   "execution_count": 21,
   "metadata": {},
   "outputs": [
    {
     "name": "stdout",
     "output_type": "stream",
     "text": [
      "employment_type:96.64 одинаковых значений\n"
     ]
    }
   ],
   "source": [
    "# создаем пустой список неинформативных колонок\n",
    "low_information_cools=[]\n",
    "for cool in ds.columns:\n",
    "    # наибольшая относительная частота в признаке\n",
    "    top_freq=ds[cool].value_counts(normalize=True).max()\n",
    "    # доля уникальных значений\n",
    "    nuniqe_ratio=ds[cool].nunique()/ds[cool].count()\n",
    "    # сравниваем наибольшую частоту с порогом\n",
    "    if top_freq>0.95:\n",
    "        low_information_cools.append(cool)\n",
    "        print(f'{cool}:{round(top_freq*100,2)} одинаковых значений')\n",
    "    # сравниваем долю уникальных значений с порогом\n",
    "    if nuniqe_ratio>0.95:\n",
    "        low_information_cools.append(cool)\n",
    "        print(f'{cool}:{round(nuniqe_ratio*100,2)} уникальных значений')\n",
    "# удаляем неинформативный признак\n",
    "ds=ds.drop(low_information_cools,axis=1)"
   ]
  },
  {
   "cell_type": "markdown",
   "metadata": {},
   "source": [
    "Надйем категориальные признаки"
   ]
  },
  {
   "cell_type": "code",
   "execution_count": 22,
   "metadata": {},
   "outputs": [
    {
     "data": {
      "text/html": [
       "<div>\n",
       "<style scoped>\n",
       "    .dataframe tbody tr th:only-of-type {\n",
       "        vertical-align: middle;\n",
       "    }\n",
       "\n",
       "    .dataframe tbody tr th {\n",
       "        vertical-align: top;\n",
       "    }\n",
       "\n",
       "    .dataframe thead th {\n",
       "        text-align: right;\n",
       "    }\n",
       "</style>\n",
       "<table border=\"1\" class=\"dataframe\">\n",
       "  <thead>\n",
       "    <tr style=\"text-align: right;\">\n",
       "      <th></th>\n",
       "      <th>Column_name</th>\n",
       "      <th>Num_Unique</th>\n",
       "      <th>Type</th>\n",
       "    </tr>\n",
       "  </thead>\n",
       "  <tbody>\n",
       "    <tr>\n",
       "      <th>0</th>\n",
       "      <td>work_year</td>\n",
       "      <td>3</td>\n",
       "      <td>int64</td>\n",
       "    </tr>\n",
       "    <tr>\n",
       "      <th>1</th>\n",
       "      <td>remote_ratio</td>\n",
       "      <td>3</td>\n",
       "      <td>int64</td>\n",
       "    </tr>\n",
       "    <tr>\n",
       "      <th>2</th>\n",
       "      <td>company_size</td>\n",
       "      <td>3</td>\n",
       "      <td>object</td>\n",
       "    </tr>\n",
       "    <tr>\n",
       "      <th>3</th>\n",
       "      <td>experience_level</td>\n",
       "      <td>4</td>\n",
       "      <td>object</td>\n",
       "    </tr>\n",
       "    <tr>\n",
       "      <th>4</th>\n",
       "      <td>salary_currency</td>\n",
       "      <td>17</td>\n",
       "      <td>object</td>\n",
       "    </tr>\n",
       "    <tr>\n",
       "      <th>5</th>\n",
       "      <td>job_title</td>\n",
       "      <td>50</td>\n",
       "      <td>object</td>\n",
       "    </tr>\n",
       "    <tr>\n",
       "      <th>6</th>\n",
       "      <td>company_location</td>\n",
       "      <td>50</td>\n",
       "      <td>object</td>\n",
       "    </tr>\n",
       "    <tr>\n",
       "      <th>7</th>\n",
       "      <td>employee_residence</td>\n",
       "      <td>57</td>\n",
       "      <td>object</td>\n",
       "    </tr>\n",
       "    <tr>\n",
       "      <th>8</th>\n",
       "      <td>salary</td>\n",
       "      <td>272</td>\n",
       "      <td>int64</td>\n",
       "    </tr>\n",
       "    <tr>\n",
       "      <th>9</th>\n",
       "      <td>salary_in_usd</td>\n",
       "      <td>369</td>\n",
       "      <td>int64</td>\n",
       "    </tr>\n",
       "  </tbody>\n",
       "</table>\n",
       "</div>"
      ],
      "text/plain": [
       "          Column_name  Num_Unique    Type\n",
       "0           work_year           3   int64\n",
       "1        remote_ratio           3   int64\n",
       "2        company_size           3  object\n",
       "3    experience_level           4  object\n",
       "4     salary_currency          17  object\n",
       "5           job_title          50  object\n",
       "6    company_location          50  object\n",
       "7  employee_residence          57  object\n",
       "8              salary         272   int64\n",
       "9       salary_in_usd         369   int64"
      ]
     },
     "metadata": {},
     "output_type": "display_data"
    },
    {
     "name": "stdout",
     "output_type": "stream",
     "text": [
      "<class 'pandas.core.frame.DataFrame'>\n",
      "Index: 565 entries, 0 to 606\n",
      "Data columns (total 10 columns):\n",
      " #   Column              Non-Null Count  Dtype \n",
      "---  ------              --------------  ----- \n",
      " 0   work_year           565 non-null    int64 \n",
      " 1   experience_level    565 non-null    object\n",
      " 2   job_title           565 non-null    object\n",
      " 3   salary              565 non-null    int64 \n",
      " 4   salary_currency     565 non-null    object\n",
      " 5   salary_in_usd       565 non-null    int64 \n",
      " 6   employee_residence  565 non-null    object\n",
      " 7   remote_ratio        565 non-null    int64 \n",
      " 8   company_location    565 non-null    object\n",
      " 9   company_size        565 non-null    object\n",
      "dtypes: int64(4), object(6)\n",
      "memory usage: 48.6+ KB\n"
     ]
    },
    {
     "data": {
      "text/plain": [
       "None"
      ]
     },
     "metadata": {},
     "output_type": "display_data"
    }
   ],
   "source": [
    "# создаем пустой список \n",
    "unique_list=[]\n",
    "# проходимся циклом по признакам\n",
    "for col in ds.columns:\n",
    "    # создаем картедж название признака, число уникальных значений, тип\n",
    "    item=(col, ds[col].nunique(),ds[col].dtypes)\n",
    "    # добавляем кортедж в список\n",
    "    unique_list.append(item)\n",
    "# создаем вспомогательную таблицу и сортируем ее\n",
    "unique_counts=pd.DataFrame(\n",
    "    unique_list,\n",
    "    columns=['Column_name','Num_Unique','Type']\n",
    ").sort_values(by='Num_Unique', ignore_index=True)\n",
    "display(unique_counts)\n",
    "display(ds.info())"
   ]
  },
  {
   "cell_type": "code",
   "execution_count": 23,
   "metadata": {},
   "outputs": [
    {
     "name": "stdout",
     "output_type": "stream",
     "text": [
      "<class 'pandas.core.frame.DataFrame'>\n",
      "Index: 565 entries, 0 to 606\n",
      "Data columns (total 10 columns):\n",
      " #   Column              Non-Null Count  Dtype   \n",
      "---  ------              --------------  -----   \n",
      " 0   work_year           565 non-null    int64   \n",
      " 1   experience_level    565 non-null    category\n",
      " 2   job_title           565 non-null    category\n",
      " 3   salary              565 non-null    int64   \n",
      " 4   salary_currency     565 non-null    category\n",
      " 5   salary_in_usd       565 non-null    int64   \n",
      " 6   employee_residence  565 non-null    category\n",
      " 7   remote_ratio        565 non-null    category\n",
      " 8   company_location    565 non-null    category\n",
      " 9   company_size        565 non-null    category\n",
      "dtypes: category(7), int64(3)\n",
      "memory usage: 30.0 KB\n"
     ]
    },
    {
     "data": {
      "text/plain": [
       "None"
      ]
     },
     "metadata": {},
     "output_type": "display_data"
    }
   ],
   "source": [
    "# преоразуем категориальные признаки исходя из таблицы\n",
    "# задем максимально число уникальных категорий\n",
    "max_unique_count=270\n",
    "for col in ds.columns:\n",
    "    if ds[col].nunique()<max_unique_count and col!='work_year':\n",
    "        ds[col]=ds[col].astype('category')\n",
    "display(ds.info())"
   ]
  },
  {
   "cell_type": "code",
   "execution_count": 24,
   "metadata": {},
   "outputs": [
    {
     "data": {
      "text/html": [
       "<div>\n",
       "<style scoped>\n",
       "    .dataframe tbody tr th:only-of-type {\n",
       "        vertical-align: middle;\n",
       "    }\n",
       "\n",
       "    .dataframe tbody tr th {\n",
       "        vertical-align: top;\n",
       "    }\n",
       "\n",
       "    .dataframe thead th {\n",
       "        text-align: right;\n",
       "    }\n",
       "</style>\n",
       "<table border=\"1\" class=\"dataframe\">\n",
       "  <thead>\n",
       "    <tr style=\"text-align: right;\">\n",
       "      <th></th>\n",
       "      <th>salary</th>\n",
       "      <th>salary_in_usd</th>\n",
       "    </tr>\n",
       "  </thead>\n",
       "  <tbody>\n",
       "    <tr>\n",
       "      <th>count</th>\n",
       "      <td>5.650000e+02</td>\n",
       "      <td>565.000000</td>\n",
       "    </tr>\n",
       "    <tr>\n",
       "      <th>mean</th>\n",
       "      <td>3.381160e+05</td>\n",
       "      <td>110610.343363</td>\n",
       "    </tr>\n",
       "    <tr>\n",
       "      <th>std</th>\n",
       "      <td>1.599879e+06</td>\n",
       "      <td>72280.702792</td>\n",
       "    </tr>\n",
       "    <tr>\n",
       "      <th>min</th>\n",
       "      <td>4.000000e+03</td>\n",
       "      <td>2859.000000</td>\n",
       "    </tr>\n",
       "    <tr>\n",
       "      <th>25%</th>\n",
       "      <td>6.700000e+04</td>\n",
       "      <td>60757.000000</td>\n",
       "    </tr>\n",
       "    <tr>\n",
       "      <th>50%</th>\n",
       "      <td>1.109250e+05</td>\n",
       "      <td>100000.000000</td>\n",
       "    </tr>\n",
       "    <tr>\n",
       "      <th>75%</th>\n",
       "      <td>1.650000e+05</td>\n",
       "      <td>150000.000000</td>\n",
       "    </tr>\n",
       "    <tr>\n",
       "      <th>max</th>\n",
       "      <td>3.040000e+07</td>\n",
       "      <td>600000.000000</td>\n",
       "    </tr>\n",
       "  </tbody>\n",
       "</table>\n",
       "</div>"
      ],
      "text/plain": [
       "             salary  salary_in_usd\n",
       "count  5.650000e+02     565.000000\n",
       "mean   3.381160e+05  110610.343363\n",
       "std    1.599879e+06   72280.702792\n",
       "min    4.000000e+03    2859.000000\n",
       "25%    6.700000e+04   60757.000000\n",
       "50%    1.109250e+05  100000.000000\n",
       "75%    1.650000e+05  150000.000000\n",
       "max    3.040000e+07  600000.000000"
      ]
     },
     "execution_count": 24,
     "metadata": {},
     "output_type": "execute_result"
    }
   ],
   "source": [
    "# основные статистические характеристики \n",
    "ds.describe().loc[:,['salary','salary_in_usd']]"
   ]
  },
  {
   "cell_type": "markdown",
   "metadata": {},
   "source": [
    "### Распределение зарплат"
   ]
  },
  {
   "cell_type": "code",
   "execution_count": 25,
   "metadata": {},
   "outputs": [
    {
     "data": {
      "image/png": "[encoded data removed]",
      "text/plain": [
       "<Figure size 1500x500 with 2 Axes>"
      ]
     },
     "metadata": {},
     "output_type": "display_data"
    }
   ],
   "source": [
    "fig, axex = plt.subplots(1,2, figsize=(15,5))\n"
   ]
  }
 ],
 "metadata": {
  "kernelspec": {
   "display_name": "Python 3",
   "language": "python",
   "name": "python3"
  },
  "language_info": {
   "codemirror_mode": {
    "name": "ipython",
    "version": 3
   },
   "file_extension": ".py",
   "mimetype": "text/x-python",
   "name": "python",
   "nbconvert_exporter": "python",
   "pygments_lexer": "ipython3",
   "version": "3.12.1"
  }
 },
 "nbformat": 4,
 "nbformat_minor": 2
}
