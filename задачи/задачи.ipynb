{
 "cells": [
  {
   "cell_type": "markdown",
   "id": "7411e527",
   "metadata": {},
   "source": [
    "### №1\n",
    "\n",
    "Дано число. Проверьте, отрицательное оно или нет. Выведите об этом информацию в консоль."
   ]
  },
  {
   "cell_type": "code",
   "execution_count": 6,
   "id": "d20c2d05",
   "metadata": {},
   "outputs": [
    {
     "name": "stdout",
     "output_type": "stream",
     "text": [
      "Число -5 отрицательное\n"
     ]
    }
   ],
   "source": [
    "number = int(input(\"Введите число от -10 до 10: \"))\n",
    "if number<0:\n",
    "    print(f\"Число {number} отрицательное\")\n",
    "else: print(f\"Число {number} положительное\")"
   ]
  },
  {
   "cell_type": "markdown",
   "id": "2291efeb",
   "metadata": {},
   "source": [
    "### №2\n",
    "\n",
    "Дана строка. Выведите в консоль длину этой строки."
   ]
  },
  {
   "cell_type": "code",
   "execution_count": 8,
   "id": "4470b1c0",
   "metadata": {},
   "outputs": [
    {
     "name": "stdout",
     "output_type": "stream",
     "text": [
      "Длина строки привет как дела = 15\n"
     ]
    }
   ],
   "source": [
    "str = input(\"Введите строку: \")\n",
    "print(f\"Длина строки {str} = {len(str)}\")"
   ]
  },
  {
   "cell_type": "markdown",
   "id": "86a34f4d",
   "metadata": {},
   "source": [
    "## №3\n",
    "\n",
    "Дана строка. Выведите в консоль последний символ строки."
   ]
  },
  {
   "cell_type": "code",
   "execution_count": 9,
   "id": "72a6c434",
   "metadata": {},
   "outputs": [
    {
     "name": "stdout",
     "output_type": "stream",
     "text": [
      "Последний симол строки - т\n"
     ]
    }
   ],
   "source": [
    "str = input(\"Введите строку: \")\n",
    "print(f\"Последний симол строки - {str[-1]}\")"
   ]
  }
 ],
 "metadata": {
  "kernelspec": {
   "display_name": "Python 3",
   "language": "python",
   "name": "python3"
  },
  "language_info": {
   "codemirror_mode": {
    "name": "ipython",
    "version": 3
   },
   "file_extension": ".py",
   "mimetype": "text/x-python",
   "name": "python",
   "nbconvert_exporter": "python",
   "pygments_lexer": "ipython3",
   "version": "3.12.1"
  }
 },
 "nbformat": 4,
 "nbformat_minor": 5
}
